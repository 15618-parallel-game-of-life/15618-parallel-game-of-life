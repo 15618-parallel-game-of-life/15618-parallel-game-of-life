{
  "nbformat": 4,
  "nbformat_minor": 0,
  "metadata": {
    "colab": {
      "provenance": []
    },
    "kernelspec": {
      "name": "python3",
      "display_name": "Python 3"
    },
    "language_info": {
      "name": "python"
    },
    "accelerator": "GPU",
    "gpuClass": "standard"
  },
  "cells": [
    {
      "cell_type": "code",
      "execution_count": 48,
      "metadata": {
        "colab": {
          "base_uri": "https://localhost:8080/"
        },
        "id": "4BCv6apR11s9",
        "outputId": "0b3d3e3d-d42b-4c5c-960c-1a98e1bad7d6"
      },
      "outputs": [
        {
          "output_type": "stream",
          "name": "stdout",
          "text": [
            "\r0% [Working]\r            \rHit:1 https://cloud.r-project.org/bin/linux/ubuntu focal-cran40/ InRelease\n",
            "\r0% [Connecting to archive.ubuntu.com (91.189.91.39)] [Connecting to security.ub\r                                                                               \rHit:2 https://developer.download.nvidia.com/compute/cuda/repos/ubuntu2004/x86_64  InRelease\n",
            "\r0% [Waiting for headers] [Connecting to security.ubuntu.com (185.125.190.39)] [\r                                                                               \rHit:3 http://archive.ubuntu.com/ubuntu focal InRelease\n",
            "Hit:4 http://archive.ubuntu.com/ubuntu focal-updates InRelease\n",
            "Hit:5 http://archive.ubuntu.com/ubuntu focal-backports InRelease\n",
            "Hit:6 http://security.ubuntu.com/ubuntu focal-security InRelease\n",
            "Hit:7 http://ppa.launchpad.net/c2d4u.team/c2d4u4.0+/ubuntu focal InRelease\n",
            "Hit:8 http://ppa.launchpad.net/cran/libgit2/ubuntu focal InRelease\n",
            "Hit:9 http://ppa.launchpad.net/deadsnakes/ppa/ubuntu focal InRelease\n",
            "Hit:10 http://ppa.launchpad.net/graphics-drivers/ppa/ubuntu focal InRelease\n",
            "Hit:11 http://ppa.launchpad.net/ubuntugis/ppa/ubuntu focal InRelease\n",
            "Reading package lists... Done\n",
            "Reading package lists... Done\n",
            "Building dependency tree       \n",
            "Reading state information... Done\n",
            "freeglut3-dev is already the newest version (2.8.1-3).\n",
            "ffmpeg is already the newest version (7:4.2.7-0ubuntu0.1).\n",
            "xvfb is already the newest version (2:1.20.13-1ubuntu1~20.04.8).\n",
            "0 upgraded, 0 newly installed, 0 to remove and 24 not upgraded.\n",
            "Looking in indexes: https://pypi.org/simple, https://us-python.pkg.dev/colab-wheels/public/simple/\n",
            "Requirement already satisfied: stable-baselines3[extra]>=2.0.0a4 in /usr/local/lib/python3.9/dist-packages (2.0.0a5)\n",
            "Requirement already satisfied: cloudpickle in /usr/local/lib/python3.9/dist-packages (from stable-baselines3[extra]>=2.0.0a4) (2.2.1)\n",
            "Requirement already satisfied: numpy in /usr/local/lib/python3.9/dist-packages (from stable-baselines3[extra]>=2.0.0a4) (1.22.4)\n",
            "Requirement already satisfied: matplotlib in /usr/local/lib/python3.9/dist-packages (from stable-baselines3[extra]>=2.0.0a4) (3.7.1)\n",
            "Requirement already satisfied: gymnasium==0.28.1 in /usr/local/lib/python3.9/dist-packages (from stable-baselines3[extra]>=2.0.0a4) (0.28.1)\n",
            "Requirement already satisfied: torch>=1.11 in /usr/local/lib/python3.9/dist-packages (from stable-baselines3[extra]>=2.0.0a4) (2.0.0+cu118)\n",
            "Requirement already satisfied: pandas in /usr/local/lib/python3.9/dist-packages (from stable-baselines3[extra]>=2.0.0a4) (1.5.3)\n",
            "Requirement already satisfied: pillow in /usr/local/lib/python3.9/dist-packages (from stable-baselines3[extra]>=2.0.0a4) (8.4.0)\n",
            "Requirement already satisfied: pygame in /usr/local/lib/python3.9/dist-packages (from stable-baselines3[extra]>=2.0.0a4) (2.3.0)\n",
            "Requirement already satisfied: autorom[accept-rom-license]~=0.6.0 in /usr/local/lib/python3.9/dist-packages (from stable-baselines3[extra]>=2.0.0a4) (0.6.1)\n",
            "Requirement already satisfied: opencv-python in /usr/local/lib/python3.9/dist-packages (from stable-baselines3[extra]>=2.0.0a4) (4.7.0.72)\n",
            "Requirement already satisfied: tensorboard>=2.9.1 in /usr/local/lib/python3.9/dist-packages (from stable-baselines3[extra]>=2.0.0a4) (2.12.1)\n",
            "Requirement already satisfied: psutil in /usr/local/lib/python3.9/dist-packages (from stable-baselines3[extra]>=2.0.0a4) (5.9.4)\n",
            "Requirement already satisfied: rich in /usr/local/lib/python3.9/dist-packages (from stable-baselines3[extra]>=2.0.0a4) (13.3.3)\n",
            "Requirement already satisfied: shimmy[atari]~=0.2.1 in /usr/local/lib/python3.9/dist-packages (from stable-baselines3[extra]>=2.0.0a4) (0.2.1)\n",
            "Requirement already satisfied: tqdm in /usr/local/lib/python3.9/dist-packages (from stable-baselines3[extra]>=2.0.0a4) (4.65.0)\n",
            "Requirement already satisfied: typing-extensions>=4.3.0 in /usr/local/lib/python3.9/dist-packages (from gymnasium==0.28.1->stable-baselines3[extra]>=2.0.0a4) (4.5.0)\n",
            "Requirement already satisfied: farama-notifications>=0.0.1 in /usr/local/lib/python3.9/dist-packages (from gymnasium==0.28.1->stable-baselines3[extra]>=2.0.0a4) (0.0.4)\n",
            "Requirement already satisfied: importlib-metadata>=4.8.0 in /usr/local/lib/python3.9/dist-packages (from gymnasium==0.28.1->stable-baselines3[extra]>=2.0.0a4) (6.3.0)\n",
            "Requirement already satisfied: jax-jumpy>=1.0.0 in /usr/local/lib/python3.9/dist-packages (from gymnasium==0.28.1->stable-baselines3[extra]>=2.0.0a4) (1.0.0)\n",
            "Requirement already satisfied: requests in /usr/local/lib/python3.9/dist-packages (from autorom[accept-rom-license]~=0.6.0->stable-baselines3[extra]>=2.0.0a4) (2.27.1)\n",
            "Requirement already satisfied: click in /usr/local/lib/python3.9/dist-packages (from autorom[accept-rom-license]~=0.6.0->stable-baselines3[extra]>=2.0.0a4) (8.1.3)\n",
            "Requirement already satisfied: AutoROM.accept-rom-license in /usr/local/lib/python3.9/dist-packages (from autorom[accept-rom-license]~=0.6.0->stable-baselines3[extra]>=2.0.0a4) (0.6.1)\n",
            "Requirement already satisfied: ale-py~=0.8.1 in /usr/local/lib/python3.9/dist-packages (from shimmy[atari]~=0.2.1->stable-baselines3[extra]>=2.0.0a4) (0.8.1)\n",
            "Requirement already satisfied: tensorboard-plugin-wit>=1.6.0 in /usr/local/lib/python3.9/dist-packages (from tensorboard>=2.9.1->stable-baselines3[extra]>=2.0.0a4) (1.8.1)\n",
            "Requirement already satisfied: wheel>=0.26 in /usr/local/lib/python3.9/dist-packages (from tensorboard>=2.9.1->stable-baselines3[extra]>=2.0.0a4) (0.40.0)\n",
            "Requirement already satisfied: grpcio>=1.48.2 in /usr/local/lib/python3.9/dist-packages (from tensorboard>=2.9.1->stable-baselines3[extra]>=2.0.0a4) (1.53.0)\n",
            "Requirement already satisfied: werkzeug>=1.0.1 in /usr/local/lib/python3.9/dist-packages (from tensorboard>=2.9.1->stable-baselines3[extra]>=2.0.0a4) (2.2.3)\n",
            "Requirement already satisfied: absl-py>=0.4 in /usr/local/lib/python3.9/dist-packages (from tensorboard>=2.9.1->stable-baselines3[extra]>=2.0.0a4) (1.4.0)\n",
            "Requirement already satisfied: google-auth-oauthlib<1.1,>=0.5 in /usr/local/lib/python3.9/dist-packages (from tensorboard>=2.9.1->stable-baselines3[extra]>=2.0.0a4) (1.0.0)\n",
            "Requirement already satisfied: setuptools>=41.0.0 in /usr/local/lib/python3.9/dist-packages (from tensorboard>=2.9.1->stable-baselines3[extra]>=2.0.0a4) (67.6.1)\n",
            "Requirement already satisfied: protobuf>=3.19.6 in /usr/local/lib/python3.9/dist-packages (from tensorboard>=2.9.1->stable-baselines3[extra]>=2.0.0a4) (3.20.3)\n",
            "Requirement already satisfied: tensorboard-data-server<0.8.0,>=0.7.0 in /usr/local/lib/python3.9/dist-packages (from tensorboard>=2.9.1->stable-baselines3[extra]>=2.0.0a4) (0.7.0)\n",
            "Requirement already satisfied: google-auth<3,>=1.6.3 in /usr/local/lib/python3.9/dist-packages (from tensorboard>=2.9.1->stable-baselines3[extra]>=2.0.0a4) (2.17.2)\n",
            "Requirement already satisfied: markdown>=2.6.8 in /usr/local/lib/python3.9/dist-packages (from tensorboard>=2.9.1->stable-baselines3[extra]>=2.0.0a4) (3.4.3)\n",
            "Requirement already satisfied: networkx in /usr/local/lib/python3.9/dist-packages (from torch>=1.11->stable-baselines3[extra]>=2.0.0a4) (3.1)\n",
            "Requirement already satisfied: triton==2.0.0 in /usr/local/lib/python3.9/dist-packages (from torch>=1.11->stable-baselines3[extra]>=2.0.0a4) (2.0.0)\n",
            "Requirement already satisfied: sympy in /usr/local/lib/python3.9/dist-packages (from torch>=1.11->stable-baselines3[extra]>=2.0.0a4) (1.11.1)\n",
            "Requirement already satisfied: jinja2 in /usr/local/lib/python3.9/dist-packages (from torch>=1.11->stable-baselines3[extra]>=2.0.0a4) (3.1.2)\n",
            "Requirement already satisfied: filelock in /usr/local/lib/python3.9/dist-packages (from torch>=1.11->stable-baselines3[extra]>=2.0.0a4) (3.11.0)\n",
            "Requirement already satisfied: cmake in /usr/local/lib/python3.9/dist-packages (from triton==2.0.0->torch>=1.11->stable-baselines3[extra]>=2.0.0a4) (3.25.2)\n",
            "Requirement already satisfied: lit in /usr/local/lib/python3.9/dist-packages (from triton==2.0.0->torch>=1.11->stable-baselines3[extra]>=2.0.0a4) (16.0.1)\n",
            "Requirement already satisfied: importlib-resources>=3.2.0 in /usr/local/lib/python3.9/dist-packages (from matplotlib->stable-baselines3[extra]>=2.0.0a4) (5.12.0)\n",
            "Requirement already satisfied: pyparsing>=2.3.1 in /usr/local/lib/python3.9/dist-packages (from matplotlib->stable-baselines3[extra]>=2.0.0a4) (3.0.9)\n",
            "Requirement already satisfied: contourpy>=1.0.1 in /usr/local/lib/python3.9/dist-packages (from matplotlib->stable-baselines3[extra]>=2.0.0a4) (1.0.7)\n",
            "Requirement already satisfied: kiwisolver>=1.0.1 in /usr/local/lib/python3.9/dist-packages (from matplotlib->stable-baselines3[extra]>=2.0.0a4) (1.4.4)\n",
            "Requirement already satisfied: packaging>=20.0 in /usr/local/lib/python3.9/dist-packages (from matplotlib->stable-baselines3[extra]>=2.0.0a4) (23.0)\n",
            "Requirement already satisfied: python-dateutil>=2.7 in /usr/local/lib/python3.9/dist-packages (from matplotlib->stable-baselines3[extra]>=2.0.0a4) (2.8.2)\n",
            "Requirement already satisfied: cycler>=0.10 in /usr/local/lib/python3.9/dist-packages (from matplotlib->stable-baselines3[extra]>=2.0.0a4) (0.11.0)\n",
            "Requirement already satisfied: fonttools>=4.22.0 in /usr/local/lib/python3.9/dist-packages (from matplotlib->stable-baselines3[extra]>=2.0.0a4) (4.39.3)\n",
            "Requirement already satisfied: pytz>=2020.1 in /usr/local/lib/python3.9/dist-packages (from pandas->stable-baselines3[extra]>=2.0.0a4) (2022.7.1)\n",
            "Requirement already satisfied: pygments<3.0.0,>=2.13.0 in /usr/local/lib/python3.9/dist-packages (from rich->stable-baselines3[extra]>=2.0.0a4) (2.14.0)\n",
            "Requirement already satisfied: markdown-it-py<3.0.0,>=2.2.0 in /usr/local/lib/python3.9/dist-packages (from rich->stable-baselines3[extra]>=2.0.0a4) (2.2.0)\n",
            "Requirement already satisfied: cachetools<6.0,>=2.0.0 in /usr/local/lib/python3.9/dist-packages (from google-auth<3,>=1.6.3->tensorboard>=2.9.1->stable-baselines3[extra]>=2.0.0a4) (5.3.0)\n",
            "Requirement already satisfied: six>=1.9.0 in /usr/local/lib/python3.9/dist-packages (from google-auth<3,>=1.6.3->tensorboard>=2.9.1->stable-baselines3[extra]>=2.0.0a4) (1.16.0)\n",
            "Requirement already satisfied: rsa<5,>=3.1.4 in /usr/local/lib/python3.9/dist-packages (from google-auth<3,>=1.6.3->tensorboard>=2.9.1->stable-baselines3[extra]>=2.0.0a4) (4.9)\n",
            "Requirement already satisfied: pyasn1-modules>=0.2.1 in /usr/local/lib/python3.9/dist-packages (from google-auth<3,>=1.6.3->tensorboard>=2.9.1->stable-baselines3[extra]>=2.0.0a4) (0.2.8)\n",
            "Requirement already satisfied: requests-oauthlib>=0.7.0 in /usr/local/lib/python3.9/dist-packages (from google-auth-oauthlib<1.1,>=0.5->tensorboard>=2.9.1->stable-baselines3[extra]>=2.0.0a4) (1.3.1)\n",
            "Requirement already satisfied: zipp>=0.5 in /usr/local/lib/python3.9/dist-packages (from importlib-metadata>=4.8.0->gymnasium==0.28.1->stable-baselines3[extra]>=2.0.0a4) (3.15.0)\n",
            "Requirement already satisfied: mdurl~=0.1 in /usr/local/lib/python3.9/dist-packages (from markdown-it-py<3.0.0,>=2.2.0->rich->stable-baselines3[extra]>=2.0.0a4) (0.1.2)\n",
            "Requirement already satisfied: urllib3<1.27,>=1.21.1 in /usr/local/lib/python3.9/dist-packages (from requests->autorom[accept-rom-license]~=0.6.0->stable-baselines3[extra]>=2.0.0a4) (1.26.15)\n",
            "Requirement already satisfied: certifi>=2017.4.17 in /usr/local/lib/python3.9/dist-packages (from requests->autorom[accept-rom-license]~=0.6.0->stable-baselines3[extra]>=2.0.0a4) (2022.12.7)\n",
            "Requirement already satisfied: charset-normalizer~=2.0.0 in /usr/local/lib/python3.9/dist-packages (from requests->autorom[accept-rom-license]~=0.6.0->stable-baselines3[extra]>=2.0.0a4) (2.0.12)\n",
            "Requirement already satisfied: idna<4,>=2.5 in /usr/local/lib/python3.9/dist-packages (from requests->autorom[accept-rom-license]~=0.6.0->stable-baselines3[extra]>=2.0.0a4) (3.4)\n",
            "Requirement already satisfied: MarkupSafe>=2.1.1 in /usr/local/lib/python3.9/dist-packages (from werkzeug>=1.0.1->tensorboard>=2.9.1->stable-baselines3[extra]>=2.0.0a4) (2.1.2)\n",
            "Requirement already satisfied: mpmath>=0.19 in /usr/local/lib/python3.9/dist-packages (from sympy->torch>=1.11->stable-baselines3[extra]>=2.0.0a4) (1.3.0)\n",
            "Requirement already satisfied: pyasn1<0.5.0,>=0.4.6 in /usr/local/lib/python3.9/dist-packages (from pyasn1-modules>=0.2.1->google-auth<3,>=1.6.3->tensorboard>=2.9.1->stable-baselines3[extra]>=2.0.0a4) (0.4.8)\n",
            "Requirement already satisfied: oauthlib>=3.0.0 in /usr/local/lib/python3.9/dist-packages (from requests-oauthlib>=0.7.0->google-auth-oauthlib<1.1,>=0.5->tensorboard>=2.9.1->stable-baselines3[extra]>=2.0.0a4) (3.2.2)\n"
          ]
        }
      ],
      "source": [
        "!apt-get update && apt-get install ffmpeg freeglut3-dev xvfb  # For visualization\n",
        "!pip install \"stable-baselines3[extra]>=2.0.0a4\""
      ]
    },
    {
      "cell_type": "code",
      "source": [
        "import os\n",
        "import gymnasium\n",
        "from stable_baselines3 import PPO\n",
        "from stable_baselines3.common.vec_env import DummyVecEnv\n",
        "from stable_baselines3.common.evaluation import evaluate_policy"
      ],
      "metadata": {
        "id": "w9qKg1sB19pf"
      },
      "execution_count": 49,
      "outputs": []
    },
    {
      "cell_type": "code",
      "source": [
        "environment_name = 'CartPole-v1'\n",
        "env = gymnasium.make(environment_name)"
      ],
      "metadata": {
        "id": "kmLUywV35eT6"
      },
      "execution_count": 50,
      "outputs": []
    },
    {
      "cell_type": "code",
      "source": [
        "episodes = 5\n",
        "for episode in range(1, episodes+1):\n",
        "  state = env.reset()\n",
        "  done = False\n",
        "  score = 0.0\n",
        "\n",
        "  while not done:\n",
        "    action = env.action_space.sample()\n",
        "    n_state, reward, done, truncated, info = env.step(action)\n",
        "    score += reward\n",
        "  \n",
        "  print('Episode:{} Score:{}'.format(episode, score))\n",
        "\n",
        "env.close()"
      ],
      "metadata": {
        "colab": {
          "base_uri": "https://localhost:8080/"
        },
        "id": "khP_E5P95q-u",
        "outputId": "0669647b-c842-40f6-fa20-0f0bdbc04f66"
      },
      "execution_count": 51,
      "outputs": [
        {
          "output_type": "stream",
          "name": "stdout",
          "text": [
            "Episode:1 Score:26.0\n",
            "Episode:2 Score:14.0\n",
            "Episode:3 Score:13.0\n",
            "Episode:4 Score:42.0\n",
            "Episode:5 Score:14.0\n"
          ]
        }
      ]
    },
    {
      "cell_type": "code",
      "source": [
        "log_path = os.path.join('Training', 'Logs')"
      ],
      "metadata": {
        "id": "NZopuJLDq5MH"
      },
      "execution_count": 52,
      "outputs": []
    },
    {
      "cell_type": "code",
      "source": [
        "log_path"
      ],
      "metadata": {
        "colab": {
          "base_uri": "https://localhost:8080/",
          "height": 35
        },
        "id": "eUYPPn5ErMIu",
        "outputId": "efd8f641-cbb0-4835-fe47-6c207246cc66"
      },
      "execution_count": 53,
      "outputs": [
        {
          "output_type": "execute_result",
          "data": {
            "text/plain": [
              "'Training/Logs'"
            ],
            "application/vnd.google.colaboratory.intrinsic+json": {
              "type": "string"
            }
          },
          "metadata": {},
          "execution_count": 53
        }
      ]
    },
    {
      "cell_type": "code",
      "source": [
        "env = gymnasium.make(environment_name)\n",
        "env = DummyVecEnv([lambda: env])\n",
        "model = PPO('MlpPolicy', env, verbose=1, tensorboard_log=log_path)"
      ],
      "metadata": {
        "colab": {
          "base_uri": "https://localhost:8080/"
        },
        "id": "n7jlmrE2qp6m",
        "outputId": "2b9cc8a1-b0b1-4a8e-a49f-9d4fac2e868b"
      },
      "execution_count": 54,
      "outputs": [
        {
          "output_type": "stream",
          "name": "stdout",
          "text": [
            "Using cuda device\n"
          ]
        }
      ]
    },
    {
      "cell_type": "code",
      "source": [
        "model.learn(total_timesteps=20000)"
      ],
      "metadata": {
        "colab": {
          "base_uri": "https://localhost:8080/"
        },
        "id": "Kj63lnPXu26U",
        "outputId": "853937d0-19ec-4bc3-e9e7-cf2630ffdd36"
      },
      "execution_count": 55,
      "outputs": [
        {
          "output_type": "stream",
          "name": "stdout",
          "text": [
            "Logging to Training/Logs/PPO_2\n",
            "-----------------------------\n",
            "| time/              |      |\n",
            "|    fps             | 442  |\n",
            "|    iterations      | 1    |\n",
            "|    time_elapsed    | 4    |\n",
            "|    total_timesteps | 2048 |\n",
            "-----------------------------\n",
            "-----------------------------------------\n",
            "| time/                   |             |\n",
            "|    fps                  | 380         |\n",
            "|    iterations           | 2           |\n",
            "|    time_elapsed         | 10          |\n",
            "|    total_timesteps      | 4096        |\n",
            "| train/                  |             |\n",
            "|    approx_kl            | 0.007867973 |\n",
            "|    clip_fraction        | 0.0875      |\n",
            "|    clip_range           | 0.2         |\n",
            "|    entropy_loss         | -0.686      |\n",
            "|    explained_variance   | -0.00228    |\n",
            "|    learning_rate        | 0.0003      |\n",
            "|    loss                 | 6.91        |\n",
            "|    n_updates            | 10          |\n",
            "|    policy_gradient_loss | -0.0139     |\n",
            "|    value_loss           | 51.9        |\n",
            "-----------------------------------------\n",
            "----------------------------------------\n",
            "| time/                   |            |\n",
            "|    fps                  | 405        |\n",
            "|    iterations           | 3          |\n",
            "|    time_elapsed         | 15         |\n",
            "|    total_timesteps      | 6144       |\n",
            "| train/                  |            |\n",
            "|    approx_kl            | 0.01166557 |\n",
            "|    clip_fraction        | 0.0765     |\n",
            "|    clip_range           | 0.2        |\n",
            "|    entropy_loss         | -0.663     |\n",
            "|    explained_variance   | 0.0919     |\n",
            "|    learning_rate        | 0.0003     |\n",
            "|    loss                 | 11.6       |\n",
            "|    n_updates            | 20         |\n",
            "|    policy_gradient_loss | -0.0188    |\n",
            "|    value_loss           | 27.5       |\n",
            "----------------------------------------\n",
            "-----------------------------------------\n",
            "| time/                   |             |\n",
            "|    fps                  | 417         |\n",
            "|    iterations           | 4           |\n",
            "|    time_elapsed         | 19          |\n",
            "|    total_timesteps      | 8192        |\n",
            "| train/                  |             |\n",
            "|    approx_kl            | 0.009128406 |\n",
            "|    clip_fraction        | 0.108       |\n",
            "|    clip_range           | 0.2         |\n",
            "|    entropy_loss         | -0.631      |\n",
            "|    explained_variance   | 0.246       |\n",
            "|    learning_rate        | 0.0003      |\n",
            "|    loss                 | 17.6        |\n",
            "|    n_updates            | 30          |\n",
            "|    policy_gradient_loss | -0.0227     |\n",
            "|    value_loss           | 52.1        |\n",
            "-----------------------------------------\n",
            "-----------------------------------------\n",
            "| time/                   |             |\n",
            "|    fps                  | 432         |\n",
            "|    iterations           | 5           |\n",
            "|    time_elapsed         | 23          |\n",
            "|    total_timesteps      | 10240       |\n",
            "| train/                  |             |\n",
            "|    approx_kl            | 0.009059921 |\n",
            "|    clip_fraction        | 0.0724      |\n",
            "|    clip_range           | 0.2         |\n",
            "|    entropy_loss         | -0.603      |\n",
            "|    explained_variance   | 0.284       |\n",
            "|    learning_rate        | 0.0003      |\n",
            "|    loss                 | 33.1        |\n",
            "|    n_updates            | 40          |\n",
            "|    policy_gradient_loss | -0.0165     |\n",
            "|    value_loss           | 67.5        |\n",
            "-----------------------------------------\n",
            "-----------------------------------------\n",
            "| time/                   |             |\n",
            "|    fps                  | 433         |\n",
            "|    iterations           | 6           |\n",
            "|    time_elapsed         | 28          |\n",
            "|    total_timesteps      | 12288       |\n",
            "| train/                  |             |\n",
            "|    approx_kl            | 0.008061288 |\n",
            "|    clip_fraction        | 0.0724      |\n",
            "|    clip_range           | 0.2         |\n",
            "|    entropy_loss         | -0.586      |\n",
            "|    explained_variance   | 0.392       |\n",
            "|    learning_rate        | 0.0003      |\n",
            "|    loss                 | 33.1        |\n",
            "|    n_updates            | 50          |\n",
            "|    policy_gradient_loss | -0.014      |\n",
            "|    value_loss           | 62.7        |\n",
            "-----------------------------------------\n",
            "-----------------------------------------\n",
            "| time/                   |             |\n",
            "|    fps                  | 441         |\n",
            "|    iterations           | 7           |\n",
            "|    time_elapsed         | 32          |\n",
            "|    total_timesteps      | 14336       |\n",
            "| train/                  |             |\n",
            "|    approx_kl            | 0.006196614 |\n",
            "|    clip_fraction        | 0.0267      |\n",
            "|    clip_range           | 0.2         |\n",
            "|    entropy_loss         | -0.58       |\n",
            "|    explained_variance   | 0.464       |\n",
            "|    learning_rate        | 0.0003      |\n",
            "|    loss                 | 11.3        |\n",
            "|    n_updates            | 60          |\n",
            "|    policy_gradient_loss | -0.00691    |\n",
            "|    value_loss           | 54.6        |\n",
            "-----------------------------------------\n",
            "------------------------------------------\n",
            "| time/                   |              |\n",
            "|    fps                  | 448          |\n",
            "|    iterations           | 8            |\n",
            "|    time_elapsed         | 36           |\n",
            "|    total_timesteps      | 16384        |\n",
            "| train/                  |              |\n",
            "|    approx_kl            | 0.0059632184 |\n",
            "|    clip_fraction        | 0.0632       |\n",
            "|    clip_range           | 0.2          |\n",
            "|    entropy_loss         | -0.569       |\n",
            "|    explained_variance   | 0.689        |\n",
            "|    learning_rate        | 0.0003       |\n",
            "|    loss                 | 11.5         |\n",
            "|    n_updates            | 70           |\n",
            "|    policy_gradient_loss | -0.00722     |\n",
            "|    value_loss           | 41.6         |\n",
            "------------------------------------------\n",
            "------------------------------------------\n",
            "| time/                   |              |\n",
            "|    fps                  | 447          |\n",
            "|    iterations           | 9            |\n",
            "|    time_elapsed         | 41           |\n",
            "|    total_timesteps      | 18432        |\n",
            "| train/                  |              |\n",
            "|    approx_kl            | 0.0070570624 |\n",
            "|    clip_fraction        | 0.0415       |\n",
            "|    clip_range           | 0.2          |\n",
            "|    entropy_loss         | -0.562       |\n",
            "|    explained_variance   | 0.545        |\n",
            "|    learning_rate        | 0.0003       |\n",
            "|    loss                 | 6.59         |\n",
            "|    n_updates            | 80           |\n",
            "|    policy_gradient_loss | -0.00594     |\n",
            "|    value_loss           | 54.1         |\n",
            "------------------------------------------\n",
            "------------------------------------------\n",
            "| time/                   |              |\n",
            "|    fps                  | 452          |\n",
            "|    iterations           | 10           |\n",
            "|    time_elapsed         | 45           |\n",
            "|    total_timesteps      | 20480        |\n",
            "| train/                  |              |\n",
            "|    approx_kl            | 0.0048195114 |\n",
            "|    clip_fraction        | 0.0356       |\n",
            "|    clip_range           | 0.2          |\n",
            "|    entropy_loss         | -0.543       |\n",
            "|    explained_variance   | 0.63         |\n",
            "|    learning_rate        | 0.0003       |\n",
            "|    loss                 | 40.6         |\n",
            "|    n_updates            | 90           |\n",
            "|    policy_gradient_loss | -0.00662     |\n",
            "|    value_loss           | 51           |\n",
            "------------------------------------------\n"
          ]
        },
        {
          "output_type": "execute_result",
          "data": {
            "text/plain": [
              "<stable_baselines3.ppo.ppo.PPO at 0x7ff9941d6bb0>"
            ]
          },
          "metadata": {},
          "execution_count": 55
        }
      ]
    },
    {
      "cell_type": "code",
      "source": [
        "PPO_Path = os.path.join('Training', 'Saved Models', 'PPO_Model_Cartpole')"
      ],
      "metadata": {
        "id": "02SXVGT3xuCG"
      },
      "execution_count": 56,
      "outputs": []
    },
    {
      "cell_type": "code",
      "source": [
        "model.save(PPO_Path)"
      ],
      "metadata": {
        "id": "f6wwcSkVx7Py"
      },
      "execution_count": 57,
      "outputs": []
    },
    {
      "cell_type": "code",
      "source": [
        "del model"
      ],
      "metadata": {
        "id": "KcJOcSfQx-L_"
      },
      "execution_count": 58,
      "outputs": []
    },
    {
      "cell_type": "code",
      "source": [
        "model = PPO.load(PPO_Path)"
      ],
      "metadata": {
        "id": "6jP7zWnCyALI"
      },
      "execution_count": 59,
      "outputs": []
    },
    {
      "cell_type": "code",
      "source": [
        "evaluate_policy(model, env, n_eval_episodes=10, render=False)"
      ],
      "metadata": {
        "colab": {
          "base_uri": "https://localhost:8080/"
        },
        "id": "jHfDbDYMyVhS",
        "outputId": "8ea41772-22ba-4d8d-84e6-1a2a88d626aa"
      },
      "execution_count": 60,
      "outputs": [
        {
          "output_type": "stream",
          "name": "stderr",
          "text": [
            "/usr/local/lib/python3.9/dist-packages/stable_baselines3/common/evaluation.py:67: UserWarning: Evaluation environment is not wrapped with a ``Monitor`` wrapper. This may result in reporting modified episode lengths and rewards, if other wrappers happen to modify these. Consider wrapping environment first with ``Monitor`` wrapper.\n",
            "  warnings.warn(\n"
          ]
        },
        {
          "output_type": "execute_result",
          "data": {
            "text/plain": [
              "(500.0, 0.0)"
            ]
          },
          "metadata": {},
          "execution_count": 60
        }
      ]
    },
    {
      "cell_type": "code",
      "source": [
        "episodes = 5\n",
        "for episode in range(1, episodes+1):\n",
        "  obs = env.reset()\n",
        "  done = False\n",
        "  score = 0.0\n",
        "\n",
        "  while not done:\n",
        "    action, _ = model.predict(obs)\n",
        "    obs, reward, done, info = env.step(action)\n",
        "    score += reward\n",
        "  \n",
        "  print('Episode:{} Score:{}'.format(episode, score))\n",
        "\n",
        "env.close()"
      ],
      "metadata": {
        "colab": {
          "base_uri": "https://localhost:8080/"
        },
        "id": "sKJVAFQdy04e",
        "outputId": "1dc8de9a-0d44-4eb3-d463-ab4335b3d3f1"
      },
      "execution_count": 44,
      "outputs": [
        {
          "output_type": "stream",
          "name": "stdout",
          "text": [
            "Episode:1 Score:[500.]\n",
            "Episode:2 Score:[453.]\n",
            "Episode:3 Score:[500.]\n",
            "Episode:4 Score:[500.]\n",
            "Episode:5 Score:[500.]\n"
          ]
        }
      ]
    },
    {
      "cell_type": "code",
      "source": [
        "# Set up fake display; otherwise rendering will fail\n",
        "import os\n",
        "os.system(\"Xvfb :1 -screen 0 1024x768x24 &\")\n",
        "os.environ['DISPLAY'] = ':1'"
      ],
      "metadata": {
        "id": "jrxD6GwuwRV3"
      },
      "execution_count": 61,
      "outputs": []
    },
    {
      "cell_type": "code",
      "source": [
        "import base64\n",
        "from pathlib import Path\n",
        "\n",
        "from IPython import display as ipythondisplay\n",
        "\n",
        "\n",
        "def show_videos(video_path=\"\", prefix=\"\"):\n",
        "    \"\"\"\n",
        "    Taken from https://github.com/eleurent/highway-env\n",
        "\n",
        "    :param video_path: (str) Path to the folder containing videos\n",
        "    :param prefix: (str) Filter the video, showing only the only starting with this prefix\n",
        "    \"\"\"\n",
        "    html = []\n",
        "    for mp4 in Path(video_path).glob(\"{}*.mp4\".format(prefix)):\n",
        "        video_b64 = base64.b64encode(mp4.read_bytes())\n",
        "        html.append(\n",
        "            \"\"\"<video alt=\"{}\" autoplay \n",
        "                    loop controls style=\"height: 400px;\">\n",
        "                    <source src=\"data:video/mp4;base64,{}\" type=\"video/mp4\" />\n",
        "                </video>\"\"\".format(\n",
        "                mp4, video_b64.decode(\"ascii\")\n",
        "            )\n",
        "        )\n",
        "    ipythondisplay.display(ipythondisplay.HTML(data=\"<br>\".join(html)))"
      ],
      "metadata": {
        "id": "nVqZZys4wR9T"
      },
      "execution_count": 62,
      "outputs": []
    },
    {
      "cell_type": "code",
      "source": [
        "from stable_baselines3.common.vec_env import VecVideoRecorder, DummyVecEnv\n",
        "\n",
        "\n",
        "def record_video(env_id, model, video_length=500, prefix=\"\", video_folder=\"videos/\"):\n",
        "    \"\"\"\n",
        "    :param env_id: (str)\n",
        "    :param model: (RL model)\n",
        "    :param video_length: (int)\n",
        "    :param prefix: (str)\n",
        "    :param video_folder: (str)\n",
        "    \"\"\"\n",
        "    eval_env = DummyVecEnv([lambda: gymnasium.make(\"CartPole-v1\", render_mode=\"rgb_array\")])\n",
        "    # Start the video at step=0 and record 500 steps\n",
        "    eval_env = VecVideoRecorder(\n",
        "        eval_env,\n",
        "        video_folder=video_folder,\n",
        "        record_video_trigger=lambda step: step == 0,\n",
        "        video_length=video_length,\n",
        "        name_prefix=prefix,\n",
        "    )\n",
        "\n",
        "    obs = eval_env.reset()\n",
        "    for _ in range(video_length):\n",
        "        action, _ = model.predict(obs)\n",
        "        obs, _, _, _ = eval_env.step(action)\n",
        "\n",
        "    # Close the video recorder\n",
        "    eval_env.close()"
      ],
      "metadata": {
        "id": "e44y0YW_wTvP"
      },
      "execution_count": 63,
      "outputs": []
    },
    {
      "cell_type": "code",
      "source": [
        "record_video(\"CartPole-v1\", model, video_length=500, prefix=\"ppo-cartpole\")"
      ],
      "metadata": {
        "colab": {
          "base_uri": "https://localhost:8080/"
        },
        "id": "ipFLA3NhwWhn",
        "outputId": "573fdaa4-8cd7-4310-c6ba-572719218498"
      },
      "execution_count": 64,
      "outputs": [
        {
          "output_type": "stream",
          "name": "stdout",
          "text": [
            "Saving video to /content/videos/ppo-cartpole-step-0-to-step-500.mp4\n",
            "Moviepy - Building video /content/videos/ppo-cartpole-step-0-to-step-500.mp4.\n",
            "Moviepy - Writing video /content/videos/ppo-cartpole-step-0-to-step-500.mp4\n",
            "\n"
          ]
        },
        {
          "output_type": "stream",
          "name": "stderr",
          "text": [
            "                                                               "
          ]
        },
        {
          "output_type": "stream",
          "name": "stdout",
          "text": [
            "Moviepy - Done !\n",
            "Moviepy - video ready /content/videos/ppo-cartpole-step-0-to-step-500.mp4\n"
          ]
        },
        {
          "output_type": "stream",
          "name": "stderr",
          "text": [
            "\r"
          ]
        }
      ]
    },
    {
      "cell_type": "code",
      "source": [
        "show_videos(\"videos\", prefix=\"ppo\")"
      ],
      "metadata": {
        "colab": {
          "base_uri": "https://localhost:8080/",
          "height": 421
        },
        "id": "fv22iavjwaAH",
        "outputId": "2291d18d-db34-463c-d24b-db2b424d40c4"
      },
      "execution_count": 65,
      "outputs": [
        {
          "output_type": "display_data",
          "data": {
            "text/plain": [
              "<IPython.core.display.HTML object>"
            ],
            "text/html": [
              "<video alt=\"videos/ppo-cartpole-step-0-to-step-500.mp4\" autoplay \n",
              "                    loop controls style=\"height: 400px;\">\n",
              "                    <source src=\"data:video/mp4;base64,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\" type=\"video/mp4\" />\n",
              "                </video>"
            ]
          },
          "metadata": {}
        }
      ]
    },
    {
      "cell_type": "code",
      "source": [
        "training_log_path = os.path.join(log_path, 'PPO_2')"
      ],
      "metadata": {
        "colab": {
          "base_uri": "https://localhost:8080/"
        },
        "id": "GLhvKq35yzHv",
        "outputId": "15087cf2-ad61-4ba2-c190-12225b7c0b19"
      },
      "execution_count": 66,
      "outputs": [
        {
          "output_type": "stream",
          "name": "stderr",
          "text": [
            "/usr/local/lib/python3.9/dist-packages/ipykernel/ipkernel.py:283: DeprecationWarning: `should_run_async` will not call `transform_cell` automatically in the future. Please pass the result to `transformed_cell` argument and any exception that happen during thetransform in `preprocessing_exc_tuple` in IPython 7.17 and above.\n",
            "  and should_run_async(code)\n"
          ]
        }
      ]
    },
    {
      "cell_type": "code",
      "source": [
        "training_log_path"
      ],
      "metadata": {
        "colab": {
          "base_uri": "https://localhost:8080/",
          "height": 35
        },
        "id": "Zy5pJ2sG0p6z",
        "outputId": "73127940-ccd7-4b67-a583-799aacb94a60"
      },
      "execution_count": 67,
      "outputs": [
        {
          "output_type": "execute_result",
          "data": {
            "text/plain": [
              "'Training/Logs/PPO_2'"
            ],
            "application/vnd.google.colaboratory.intrinsic+json": {
              "type": "string"
            }
          },
          "metadata": {},
          "execution_count": 67
        }
      ]
    },
    {
      "cell_type": "code",
      "source": [
        "!tensorboard --logdir={training_log_path}"
      ],
      "metadata": {
        "colab": {
          "base_uri": "https://localhost:8080/"
        },
        "id": "MmV9w97r0tdi",
        "outputId": "aef5c0f9-93c5-4f2c-9f04-a1a9b93d21e0"
      },
      "execution_count": 68,
      "outputs": [
        {
          "output_type": "stream",
          "name": "stdout",
          "text": [
            "2023-04-18 00:48:30.021539: W tensorflow/compiler/tf2tensorrt/utils/py_utils.cc:38] TF-TRT Warning: Could not find TensorRT\n",
            "/usr/local/lib/python3.9/dist-packages/tensorboard_data_server/bin/server: /lib/x86_64-linux-gnu/libc.so.6: version `GLIBC_2.33' not found (required by /usr/local/lib/python3.9/dist-packages/tensorboard_data_server/bin/server)\n",
            "/usr/local/lib/python3.9/dist-packages/tensorboard_data_server/bin/server: /lib/x86_64-linux-gnu/libc.so.6: version `GLIBC_2.34' not found (required by /usr/local/lib/python3.9/dist-packages/tensorboard_data_server/bin/server)\n",
            "/usr/local/lib/python3.9/dist-packages/tensorboard_data_server/bin/server: /lib/x86_64-linux-gnu/libc.so.6: version `GLIBC_2.32' not found (required by /usr/local/lib/python3.9/dist-packages/tensorboard_data_server/bin/server)\n",
            "Serving TensorBoard on localhost; to expose to the network, use a proxy or pass --bind_all\n",
            "TensorBoard 2.12.1 at http://localhost:6006/ (Press CTRL+C to quit)\n",
            "\n",
            "\n",
            "^C\n"
          ]
        }
      ]
    },
    {
      "cell_type": "code",
      "source": [
        "size = 10\n",
        "\n",
        "class Network:\n",
        "  def __init__(self, weights_1=None, weights_2=None, weights_3=None, biases=None):\n",
        "    self.network_outputs = size * size * 0.5\n",
        "    self.layer_1 = size * size\n",
        "    self.layer_2 = size * size\n",
        "    if weights_1 is None:\n",
        "      weights_1_shape = (self.layer_1, size * size)\n",
        "      self.weights_1 = np.random.normal(size=weights_1_shape)\n",
        "    else:\n",
        "      self.weights_1 = weights_1\n",
        "    if weights_2 is None:\n",
        "      weights_2_shape = (self.layer_2, self.layer_1)\n",
        "      self.weights_2 = np.random.normal(size=weights_2_shape)\n",
        "    else:\n",
        "      self.weights_2 = weights_2\n",
        "    if weights_3 is None:\n",
        "      weights_3_shape = (self.network_outputs, self.layer_2)\n",
        "      self.weights_3 = np.random.normal(size=weights_3_shape)\n",
        "    else:\n",
        "      self.weights_3 = weights_3\n",
        "    if biases is None:\n",
        "      self.biases = np.random.normal(size=(self.network_outputs))\n",
        "    else:\n",
        "      self.biases = biases\n",
        "\n",
        "  def clone(self):\n",
        "    return Network(np.copy(self.weights_1), np.copy(self.weights_2), np.copy(self.weights_3), np.copy(self.biases), self.type)\n",
        "\n",
        "  def forward(self, observations):\n",
        "    outputs_sub1 = np.matmul(self.weights_1, observations)\n",
        "    outputs_sub2 = np.matmul(self.weights_2, outputs_sub1)\n",
        "    outputs = np.add(np.matmul(self.weights_3, outputs_sub2), self.biases)\n",
        "    return outputs\n",
        "\n",
        "  def copy_and_mutate(self, network, mr=0.1):\n",
        "    self.weights_1 = np.add(\n",
        "        network.weights_1, np.random.normal(size=self.weights_1.shape) * mr)\n",
        "    self.weights_2 = np.add(\n",
        "        network.weights_2, np.random.normal(size=self.weights_2.shape) * mr)\n",
        "    self.weights_3 = np.add(\n",
        "        network.weights_3, np.random.normal(size=self.weights_3.shape) * mr)\n",
        "    self.biases = np.add(\n",
        "        network.biases, np.random.normal(size=self.biases.shape) * mr)\n",
        "\n",
        "  def copy(self, network):\n",
        "    self.weights_1 = network.weights_1\n",
        "    self.weights_2 = network.weights_2\n",
        "    self.weights_3 = network.weights_3\n",
        "    self.biases = network.biases"
      ],
      "metadata": {
        "id": "fnibzM_qtib6"
      },
      "execution_count": null,
      "outputs": []
    },
    {
      "cell_type": "code",
      "source": [
        "from google.colab import files\n",
        "\n"
      ],
      "metadata": {
        "id": "ptP-e23ded75"
      },
      "execution_count": null,
      "outputs": []
    }
  ]
}